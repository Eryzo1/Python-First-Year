{
 "cells": [
  {
   "cell_type": "code",
   "execution_count": 3,
   "metadata": {},
   "outputs": [
    {
     "ename": "ModuleNotFoundError",
     "evalue": "No module named 'matplotlib'",
     "output_type": "error",
     "traceback": [
      "\u001b[1;31m---------------------------------------------------------------------------\u001b[0m",
      "\u001b[1;31mModuleNotFoundError\u001b[0m                       Traceback (most recent call last)",
      "Cell \u001b[1;32mIn[3], line 3\u001b[0m\n\u001b[0;32m      1\u001b[0m \u001b[38;5;66;03m# Import Libraries\u001b[39;00m\n\u001b[0;32m      2\u001b[0m \u001b[38;5;28;01mimport\u001b[39;00m \u001b[38;5;21;01mdatetime\u001b[39;00m\n\u001b[1;32m----> 3\u001b[0m \u001b[38;5;28;01mimport\u001b[39;00m \u001b[38;5;21;01mmatplotlib\u001b[39;00m\u001b[38;5;21;01m.\u001b[39;00m\u001b[38;5;21;01mpyplot\u001b[39;00m \u001b[38;5;28;01mas\u001b[39;00m \u001b[38;5;21;01mplt\u001b[39;00m\n\u001b[0;32m      4\u001b[0m \u001b[38;5;28;01mimport\u001b[39;00m \u001b[38;5;21;01mnumpy\u001b[39;00m \u001b[38;5;28;01mas\u001b[39;00m \u001b[38;5;21;01mnp\u001b[39;00m\n",
      "\u001b[1;31mModuleNotFoundError\u001b[0m: No module named 'matplotlib'"
     ]
    }
   ],
   "source": [
    "# Import Libraries\n",
    "import datetime\n",
    "import matplotlib.pyplot as plt\n",
    "import numpy as np"
   ]
  },
  {
   "cell_type": "code",
   "execution_count": null,
   "metadata": {},
   "outputs": [],
   "source": [
    "def filetoList(saleFile, ReturnFile, return_list, saleWReturn):\n",
    "    \"\"\"\n",
    "    This function takes in the returns File and makes it into a list, then takes the sales File and makes that into a list without the returns.\n",
    "    Inputs: \n",
    "        SaleFile - Sales File\n",
    "        ReturnFile - Returns File\n",
    "        return_list - The first line of the Returns File made into a list.\n",
    "        saleWReturn - The Sales File without removing the returns.\n",
    "    Returns: sales_list - Sale's list without the Returns.\n",
    "    \"\"\"\n",
    "    sales_list = []\n",
    "    with open(ReturnFile, \"r\") as file:\n",
    "        for line in file:\n",
    "            return_list.append(line.strip().split(\",\")[0])\n",
    "    with open(saleFile, \"r\") as file1:\n",
    "        for line in file1:\n",
    "            data = line.strip().split(\",\")\n",
    "            saleWReturn.append(data)\n",
    "            if data[0] not in return_list:\n",
    "                sales_list.append(data)\n",
    "    return sales_list\n",
    "\n",
    "def filetodict(filename, n1, n2):\n",
    "    \"\"\"\n",
    "    This function takes a file splits each line with a comma, then takes 2 index's n1, n2 and it makes n1 the keys and\n",
    "    n2 the value to a dictionary and returns the dictionary. \n",
    "    Input: \n",
    "        filename - The name of the file\n",
    "        n1 - Key \n",
    "        n2 - Value\n",
    "    Returns: outputDict - Dictionary \n",
    "    \"\"\"\n",
    "    outputDict = {}\n",
    "    with open(filename, \"r\") as file:\n",
    "        for line in file:\n",
    "            line = line.strip().split(\",\")\n",
    "            key = line[n1]\n",
    "            value = line[n2]\n",
    "            outputDict[key] = value\n",
    "    return outputDict"
   ]
  },
  {
   "cell_type": "code",
   "execution_count": null,
   "metadata": {},
   "outputs": [
    {
     "data": {
      "text/plain": [
       "'Product_Name'"
      ]
     },
     "execution_count": 30,
     "metadata": {},
     "output_type": "execute_result"
    }
   ],
   "source": [
    "# Variables that are useful to code\n",
    "returnList = []\n",
    "saleWReturn = []\n",
    "Sales_list = filetoList(\"transactions_Sales.csv\", \"transactions_Returns.csv\", returnList, saleWReturn)\n",
    "productdict1 = filetodict(\"transactions_Products.csv\", 0, 2)    \n",
    "productdict2 = filetodict(\"transactions_Products.csv\", 0, 1)\n",
    "returnDict = filetodict(\"transactions_Returns.csv\", 0, 1)\n",
    "returnList.pop(0)\n",
    "saleWReturn.pop(0)\n",
    "productdict1.pop('Product_ID')\n",
    "productdict2.pop('Product_ID')"
   ]
  },
  {
   "cell_type": "code",
   "execution_count": null,
   "metadata": {},
   "outputs": [
    {
     "name": "stdout",
     "output_type": "stream",
     "text": [
      "Average transaction without discount: 3.38% - 3.90%\n",
      "Average discount per product:\n",
      " P1                                   2-in-1 Laptop 09.88% - 06.90%\n",
      " P2                                     Game Laptop 07.45% - 07.59%\n",
      " P3                                    Titan Laptop 09.29% - 06.91%\n",
      " P4                              Folding Smartphone 09.06% - 07.25%\n",
      " P5                                Smart Smartphone 09.10% - 07.50%\n",
      " P6                                    T headphones 10.16% - 08.31%\n",
      " P7                             Cordless Headphones 07.29% - 07.22%\n",
      " P8                                   \"13\"\" Tablet\" 10.09% - 06.68%\n",
      " P9                                    e-ink Tablet 10.09% - 06.69%\n",
      "P10                                   \"10\"\" Tablet\" 10.14% - 07.75%\n",
      "P11                                  Colour Printer 10.28% - 06.91%\n",
      "P12                                   Laser Printer 09.59% - 07.47%\n",
      "P13                                        Mega MP3 09.58% - 07.04%\n",
      "P14                                     Flat screen 08.15% - 07.06%\n",
      "P15                                  Gaming Monitor 10.03% - 07.47%\n",
      "P16                                   Camera Webcam 00.00% - 07.86%\n",
      "P17                                   Camera TocTic 00.00% - 06.87%\n",
      "P18                            Multidirectional mic 00.00% - 07.81%\n",
      "P19                                       Drone Cam 00.00% - 08.05%\n",
      "P20                                 Health Daylight 00.00% - 07.94%\n"
     ]
    }
   ],
   "source": [
    "# List of the data before the 8th and after the 8th\n",
    "sale_before = []\n",
    "sale_after = []\n",
    "for i in range(len(saleWReturn)):\n",
    "    date = saleWReturn[i][1]\n",
    "    day = int(date[8:])\n",
    "    if day < 8:\n",
    "        sale_before.append(saleWReturn[i])\n",
    "    else:\n",
    "        sale_after.append(saleWReturn[i])\n",
    "\n",
    "def avg_discount(product_id, sales_list):\n",
    "    \"\"\"\n",
    "    This function calculates the average discount per product.\n",
    "    Input:\n",
    "        product_id - The id of the product.\n",
    "        sales_list - The list which we collect the data from.\n",
    "    Return: Average\n",
    "    \"\"\"\n",
    "    total_discount = 0\n",
    "    count = 0\n",
    "    average = 0\n",
    "    for sale in sales_list:\n",
    "        if sale[2] == product_id:\n",
    "            total_discount += float(sale[4]) * float(sale[3])\n",
    "            count += (1 * int(sale[3]))\n",
    "            average = (total_discount / count) * 100\n",
    "    return average\n",
    "\n",
    "def avg_without_discount(sales_list):\n",
    "    \"\"\"\n",
    "    This function calculates the average transactions without discounts.\n",
    "    Input:\n",
    "        sales_list - The list which we collect the data from.\n",
    "    Return: Average\n",
    "    \"\"\"\n",
    "    count = 0\n",
    "    for sale in sales_list:\n",
    "        if float(sale[4]) == 0:\n",
    "            count += 1\n",
    "    average = (count / len(sales_list)) * 100\n",
    "    return average\n",
    "\n",
    "# Calculate average transaction without discount before and after January 8th\n",
    "avg_wout_before = avg_without_discount(sale_before)\n",
    "avg_wout_after = avg_without_discount(sale_after)\n",
    "\n",
    "# Output\n",
    "print(f\"Average transaction without discount: {avg_wout_before:.2f}% - {avg_wout_after:.2f}%\")\n",
    "print(\"Average discount per product:\")\n",
    "for product_id in productdict1.keys():\n",
    "    product_name = productdict2.get(product_id, \"\")\n",
    "    avg_discount_before = avg_discount(product_id, sale_before)\n",
    "    avg_discount_after = avg_discount(product_id, sale_after)\n",
    "    print(f\"{product_id:>3}                            {product_name:>20} {avg_discount_before:05.2f}% - {avg_discount_after:05.2f}%\")"
   ]
  },
  {
   "cell_type": "code",
   "execution_count": null,
   "metadata": {},
   "outputs": [
    {
     "name": "stdout",
     "output_type": "stream",
     "text": [
      "+-----------+-----+-------------+\n",
      "| Day       |NB Tr|    Turnover |\n",
      "+-----------+-----+-------------+\n",
      "|Monday     | 64  |  $ 47,601.66|\n",
      "+-----------+-----+-------------+\n",
      "|Tuesday    | 71  |  $ 55,074.94|\n",
      "+-----------+-----+-------------+\n",
      "|Wednesday  | 65  |  $ 47,543.33|\n",
      "+-----------+-----+-------------+\n",
      "|Thursday   | 74  |  $ 50,420.02|\n",
      "+-----------+-----+-------------+\n",
      "|Friday     | 74  |  $ 58,183.97|\n",
      "+-----------+-----+-------------+\n",
      "|Saturday   | 75  |  $ 52,811.26|\n",
      "+-----------+-----+-------------+\n",
      "|Sunday     | 73  |  $ 62,234.42|\n",
      "+-----------+-----+-------------+\n"
     ]
    },
    {
     "data": {
      "image/png": "[encoded data removed]",
      "text/plain": [
       "<Figure size 640x480 with 1 Axes>"
      ]
     },
     "metadata": {},
     "output_type": "display_data"
    },
    {
     "data": {
      "image/png": "[encoded data removed]",
      "text/plain": [
       "<Figure size 640x480 with 1 Axes>"
      ]
     },
     "metadata": {},
     "output_type": "display_data"
    }
   ],
   "source": [
    "# List and dictionaries useful to store different values given the same key\n",
    "week_list = [\"Monday\", \"Tuesday\", \"Wednesday\", \"Thursday\", \"Friday\", \"Saturday\", \"Sunday\"]\n",
    "transactions_amount = {day: 0 for day in week_list}\n",
    "sale_amount = {day: 0 for day in week_list}\n",
    "day_in_month = {day: 0 for day in week_list}\n",
    "\n",
    "# Creating the dictionaries with the total amount of weekdays and the total sale amount\n",
    "reshelfList = []\n",
    "day_list = []\n",
    "for sale in saleWReturn:\n",
    "    transaction_Id = sale[0]\n",
    "    date = sale[1]\n",
    "    quantity = sale[3]\n",
    "    discount = sale[4]\n",
    "    product = sale[2]\n",
    "    year = int(date[:4])\n",
    "    month = int(date[5:7])\n",
    "    day = int(date[8:])\n",
    "    weekday = datetime.datetime(year, month, day).strftime(\"%A\")\n",
    "    transactions_amount[weekday] += 1\n",
    "    sale_amount[weekday] += float(quantity) * (1 - float(discount)) * float(productdict1[product])\n",
    "\n",
    "    if date not in day_list:\n",
    "        day_list.append(date)\n",
    "\n",
    "    if transaction_Id in returnList:\n",
    "        reshelfList.append(sale)    \n",
    "\n",
    "# Dictionary with how many each weekday is in the month \n",
    "for data in day_list:\n",
    "    year = int(data[:4])\n",
    "    month = int(data[5:7])\n",
    "    day = int(data[8:])\n",
    "    weekday = datetime.datetime(year, month, day).strftime(\"%A\")\n",
    "    day_in_month[weekday] += 1\n",
    "\n",
    "# Calculating Average\n",
    "avg_transAc_amount = {day : round(total / day_in_month[day]) for day, total in transactions_amount.items()}\n",
    "avg_sale_amount = {day : round(total / day_in_month[day], 2) for day, total in sale_amount.items()}\n",
    "\n",
    "# Output\n",
    "print(\"+-----------+-----+-------------+\")\n",
    "print(\"| Day       |NB Tr|    Turnover |\")\n",
    "print(\"+-----------+-----+-------------+\")\n",
    "for day in week_list:\n",
    "    avg_transactions = avg_transAc_amount[day]\n",
    "    turnover = avg_sale_amount[day]\n",
    "    print(f\"|{day:9}  |{avg_transactions:3d}  |  ${turnover:10,.2f}|\")\n",
    "    print(\"+-----------+-----+-------------+\")\n",
    "\n",
    "bar_colors = ['tab:blue', 'tab:blue', 'tab:blue', 'tab:blue', 'tab:blue', 'tab:red', 'tab:red']\n",
    "myBars = plt.bar(week_list, height=list(avg_transAc_amount.values()), color=bar_colors)\n",
    "plt.xlabel('Days')\n",
    "plt.ylabel('Transactions')\n",
    "plt.bar_label(myBars)\n",
    "plt.show()\n",
    "myBars2 = plt.bar(week_list, height=list(avg_sale_amount.values()), color=bar_colors)\n",
    "plt.xlabel('Days')\n",
    "plt.ylabel('Dollar amount')\n",
    "plt.bar_label(myBars2, fmt='{:,.0f}')\n",
    "plt.show()"
   ]
  },
  {
   "cell_type": "code",
   "execution_count": null,
   "metadata": {},
   "outputs": [
    {
     "name": "stdout",
     "output_type": "stream",
     "text": [
      "Monday, January, 29, 2024 Total Return Shelving(RS) Cost=$1,380.00\n",
      "Products returned that day:\n",
      "P17         Camera TocTic         6 $     90.00\n",
      "P18         Multidirectional mic  1 $     20.00\n",
      "P2          Game Laptop           1 $    200.00\n",
      "P1          2-in-1 Laptop         3 $    450.00\n",
      "P2          Game Laptop           1 $    200.00\n",
      "P3          Titan Laptop          2 $    420.00\n"
     ]
    }
   ],
   "source": [
    "# Dictionary with the returns data and the value as the shelving cost.\n",
    "shelving_Dict = {}\n",
    "for data in reshelfList:\n",
    "    transaction_Id = data[0]\n",
    "    product = data[2]\n",
    "    quantity = float(data[3])\n",
    "    date = returnDict[transaction_Id]\n",
    "    price = float(productdict1.get(product, 0))\n",
    "    shelf_cost = price * 0.1 * quantity\n",
    "\n",
    "    if date in shelving_Dict:\n",
    "        shelving_Dict[date] += shelf_cost\n",
    "    else:\n",
    "        shelving_Dict[date] = shelf_cost\n",
    "\n",
    "shelving_Dict = dict(sorted(shelving_Dict.items(), key=lambda item: item[1], reverse=True))\n",
    "\n",
    "key_list = list(shelving_Dict.keys())\n",
    "day_in_month = key_list[0]\n",
    "year = int(day_in_month[:4])\n",
    "month = int(day_in_month[5:7])\n",
    "day = int(day_in_month[8:])\n",
    "weekday = datetime.datetime(year, month, day).strftime(\"%A\")\n",
    "theMonth = datetime.datetime(year, month, day).strftime(\"%B\")\n",
    "\n",
    "# Output\n",
    "print(f\"{weekday}, {theMonth}, {day}, {year} Total Return Shelving(RS) Cost=${shelving_Dict[day_in_month]:,.2f}\")\n",
    "print(f\"Products returned that day:\")\n",
    "for data in reshelfList:\n",
    "    transaction_Id = data[0]\n",
    "    data[1] = returnDict[transaction_Id]\n",
    "    date = data[1]\n",
    "    product = data[2]\n",
    "    quantity = float(data[3])\n",
    "    price = float(productdict1.get(product, 0))\n",
    "    name = productdict2.get(product, \"\")\n",
    "    shelf_cost = price * 0.1 * quantity\n",
    "\n",
    "    if date == day_in_month:\n",
    "        print(f\"{product:3}         {name:20}{quantity:3.0f} ${shelf_cost:10,.2f}\")"
   ]
  },
  {
   "cell_type": "code",
   "execution_count": null,
   "metadata": {},
   "outputs": [],
   "source": [
    "# Creating a dictionary with the number of items sold per product\n",
    "salesDict = {}\n",
    "for i in range(len(Sales_list)):\n",
    "    product = Sales_list[i][2]\n",
    "    quantity = int(Sales_list[i][3])\n",
    "    salesDict[product] = salesDict.get(product, 0) + quantity\n",
    "\n",
    "salesDict = dict(sorted(salesDict.items(), key=lambda item: int(item[0][1:])))\n",
    "\n",
    "# Writing the output into a file\n",
    "with open(\"order_supplier_January.txt\", \"w\") as file:\n",
    "    output = \"\"\n",
    "    for key, value in salesDict.items():\n",
    "        output = f\"{key}#{productdict2[key]}#{salesDict[key]}\\n\"\n",
    "        file.write(output)"
   ]
  },
  {
   "cell_type": "code",
   "execution_count": null,
   "metadata": {},
   "outputs": [
    {
     "name": "stdout",
     "output_type": "stream",
     "text": [
      "P17 Camera TocTic       109 ['2024/01/08', '2024/01/09', '2024/01/10', '2024/01/11', '2024/01/12', '2024/01/13', '2024/01/14', '2024/01/15', '2024/01/16', '2024/01/17', '2024/01/18', '2024/01/19', '2024/01/20', '2024/01/21', '2024/01/22', '2024/01/24', '2024/01/25', '2024/01/26', '2024/01/27', '2024/01/28', '2024/01/29', '2024/01/30', '2024/01/31']\n",
      "\n"
     ]
    }
   ],
   "source": [
    "key_list = list(salesDict.keys())\n",
    "value_list = list(salesDict.values())\n",
    "list_of_dates = []\n",
    "# Finding the days with the least number of units sold and appending those dates into a list\n",
    "for key, value in salesDict.items():\n",
    "    if value == 0:\n",
    "        print(f\"{key:>3} {productdict2[key]:<20}\")\n",
    "    else:\n",
    "        for data in Sales_list:\n",
    "            sold_least = min(value_list)\n",
    "            position = value_list.index(sold_least)\n",
    "            product = data[2]\n",
    "            data[1] = data[1].replace(\"-\", \"/\")\n",
    "            date = data[1]\n",
    "            if key_list[position] == product:\n",
    "                if date not in list_of_dates:\n",
    "                    list_of_dates.append(date)\n",
    "\n",
    "# Appending the output into a list and then printing the first index so the output does not repeat. \n",
    "output = []\n",
    "for key, value in salesDict.items():\n",
    "    if value != 0:\n",
    "        position = value_list.index(sold_least)\n",
    "        output.append(f\"{key_list[position]:3} {productdict2[key_list[position]]:<20}{salesDict[key_list[position]]} {list_of_dates}\\n\")\n",
    "print(output[0])"
   ]
  },
  {
   "cell_type": "code",
   "execution_count": null,
   "metadata": {},
   "outputs": [
    {
     "name": "stdout",
     "output_type": "stream",
     "text": [
      "Pearson Correlation= -0.134\n"
     ]
    },
    {
     "data": {
      "image/png": "[encoded data removed]",
      "text/plain": [
       "<Figure size 640x480 with 1 Axes>"
      ]
     },
     "metadata": {},
     "output_type": "display_data"
    }
   ],
   "source": [
    "for key, value in productdict1.items():\n",
    "    productdict1[key] = int(value)\n",
    "\n",
    "list_of_prices = list(productdict1.values())\n",
    "avg_discount_list = []\n",
    "for keys in productdict1.keys():\n",
    "    average_discount = avg_discount(keys, Sales_list)\n",
    "    avg_discount_list.append(average_discount)\n",
    "\n",
    "# Output\n",
    "r= np.corrcoef(list_of_prices,avg_discount_list)\n",
    "print (f\"Pearson Correlation= {r[0,1]:.3f}\")\n",
    "coef=np.polyfit(list_of_prices,avg_discount_list,1)\n",
    "poly1d_fn=np.poly1d(coef)\n",
    "plt.plot(list_of_prices,avg_discount_list, 'bo', list_of_prices, poly1d_fn(list_of_prices), '--k')\n",
    "plt.show()"
   ]
  }
 ],
 "metadata": {
  "kernelspec": {
   "display_name": "Python 3",
   "language": "python",
   "name": "python3"
  },
  "language_info": {
   "codemirror_mode": {
    "name": "ipython",
    "version": 3
   },
   "file_extension": ".py",
   "mimetype": "text/x-python",
   "name": "python",
   "nbconvert_exporter": "python",
   "pygments_lexer": "ipython3",
   "version": "3.11.5"
  }
 },
 "nbformat": 4,
 "nbformat_minor": 2
}
